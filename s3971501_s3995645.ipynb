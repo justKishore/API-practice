{
  "nbformat": 4,
  "nbformat_minor": 0,
  "metadata": {
    "colab": {
      "provenance": [],
      "mount_file_id": "1Iy7Kaq_6aVDcMdYW5C13lGLQ-gLiPQAV",
      "authorship_tag": "ABX9TyOS3DP3rftiTXq2ipupMkN6",
      "include_colab_link": true
    },
    "kernelspec": {
      "name": "python3",
      "display_name": "Python 3"
    },
    "language_info": {
      "name": "python"
    }
  },
  "cells": [
    {
      "cell_type": "markdown",
      "metadata": {
        "id": "view-in-github",
        "colab_type": "text"
      },
      "source": [
        "<a href=\"https://colab.research.google.com/github/justKishore/API-practice/blob/main/s3971501_s3995645.ipynb\" target=\"_parent\"><img src=\"https://colab.research.google.com/assets/colab-badge.svg\" alt=\"Open In Colab\"/></a>"
      ]
    },
    {
      "cell_type": "code",
      "execution_count": 16,
      "metadata": {
        "id": "V_p2xRAkTs5r",
        "colab": {
          "base_uri": "https://localhost:8080/"
        },
        "outputId": "7ffbcf8a-9fc6-48ee-a441-eb9500186473"
      },
      "outputs": [
        {
          "output_type": "stream",
          "name": "stdout",
          "text": [
            "Drive already mounted at /content/drive; to attempt to forcibly remount, call drive.mount(\"/content/drive\", force_remount=True).\n"
          ]
        }
      ],
      "source": [
        "import os\n",
        "import numpy as np\n",
        "from skimage import io, transform\n",
        "from sklearn.model_selection import train_test_split\n",
        "from sklearn.svm import SVC\n",
        "from sklearn.metrics import accuracy_score\n",
        "\n",
        "# Mount Google Drive\n",
        "from google.colab import drive\n",
        "drive.mount('/content/drive')\n",
        "\n",
        "# Define the path to the data directory in your Google Drive\n",
        "data_dir = \"/content/drive/MyDrive/CML/trafficsigns_dataset\"\n",
        "\n",
        "# Step 1: Read Data and Assign Labels\n",
        "X = []\n",
        "y_parent = []  # Labels for parent folders\n",
        "y_subfolder = []  # Labels for subfolders within each parent folder\n",
        "x_img=[]\n",
        "name=[]\n",
        "\n",
        "for parent_folder in os.listdir(data_dir):\n",
        "    parent_folder_path = os.path.join(data_dir, parent_folder)\n",
        "    if os.path.isdir(parent_folder_path):\n",
        "        for subfolder in os.listdir(parent_folder_path):\n",
        "            subfolder_path = os.path.join(parent_folder_path, subfolder)\n",
        "            if os.path.isdir(subfolder_path):\n",
        "                for image_name in os.listdir(subfolder_path):\n",
        "                    # Ignore certain files like .DS_Store or README\n",
        "                    if image_name.lower().endswith(('.png', '.jpg', '.jpeg')):\n",
        "                        image_path = os.path.join(subfolder_path, image_name)\n",
        "                        name.append(image_name)\n",
        "                        image = io.imread(image_path)\n",
        "                        image = transform.resize(image, (100, 100))\n",
        "                        x_img.append(image)\n",
        "                        X.append(image.flatten())\n",
        "                        y_parent.append(parent_folder)\n",
        "                        y_subfolder.append(subfolder)\n",
        "\n"
      ]
    },
    {
      "cell_type": "code",
      "source": [
        "x_img[0], y_parent[0], y_subfolder[0], name[0]"
      ],
      "metadata": {
        "colab": {
          "base_uri": "https://localhost:8080/"
        },
        "id": "b3Q6avqrmdrB",
        "outputId": "033d5b98-0850-4a25-83af-cc8e411beaba"
      },
      "execution_count": 17,
      "outputs": [
        {
          "output_type": "execute_result",
          "data": {
            "text/plain": [
              "(array([[0.33291294, 0.3301898 , 0.33135686, ..., 0.29003922, 0.29098039,\n",
              "         0.28878431],\n",
              "        [0.33568   , 0.33080471, 0.33289412, ..., 0.28894118, 0.28988235,\n",
              "         0.28768627],\n",
              "        [0.33449412, 0.33054118, 0.33223529, ..., 0.28941176, 0.29035294,\n",
              "         0.28815686],\n",
              "        ...,\n",
              "        [0.30174118, 0.30130196, 0.3014902 , ..., 0.24047059, 0.23501176,\n",
              "         0.24774902],\n",
              "        [0.30187294, 0.30169725, 0.30177255, ..., 0.23830588, 0.23273412,\n",
              "         0.2457349 ],\n",
              "        [0.30156549, 0.3007749 , 0.30111373, ..., 0.24335686, 0.23804863,\n",
              "         0.25043451]]),\n",
              " 'triangle',\n",
              " 'giveway',\n",
              " '00056_00001.png')"
            ]
          },
          "metadata": {},
          "execution_count": 17
        }
      ]
    },
    {
      "cell_type": "code",
      "source": [
        "import matplotlib.pyplot as plt\n",
        "\n",
        "image_shape = (100, 100)\n",
        "image = x_img[0].reshape(image_shape)\n",
        "\n",
        "# Display the image\n",
        "plt.imshow(image, cmap='gray')\n",
        "plt.axis('off')\n",
        "plt.show()\n"
      ],
      "metadata": {
        "colab": {
          "base_uri": "https://localhost:8080/",
          "height": 406
        },
        "id": "bo2m8ZySrPWF",
        "outputId": "ee9c0192-dd72-4957-cee5-3586110bd6df"
      },
      "execution_count": 18,
      "outputs": [
        {
          "output_type": "display_data",
          "data": {
            "text/plain": [
              "<Figure size 640x480 with 1 Axes>"
            ],
            "image/png": "[encoded data removed]"
          },
          "metadata": {}
        }
      ]
    }
  ]
}